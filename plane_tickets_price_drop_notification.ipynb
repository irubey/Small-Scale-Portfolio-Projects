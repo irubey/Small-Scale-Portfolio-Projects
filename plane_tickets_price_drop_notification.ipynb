{
 "cells": [
  {
   "cell_type": "code",
   "execution_count": null,
   "metadata": {},
   "outputs": [],
   "source": [
    "import requests\n",
    "import smtplib\n",
    "from email.mime.text import MIMEText\n",
    "from bs4 import BeautifulSoup\n",
    "\n",
    "# URL to check flight prices\n",
    "url = 'https://www.google.com/flights?hl=en#flt=/m/02_286.DEN.2022-03-01*/m/0b3f5.YUL.2022-03-08;c:USD;e:1;sd:1;t:f;tt:o'\n",
    "\n",
    "# Set your desired price threshold\n",
    "threshold_price = 300\n",
    "\n",
    "# Set your email address and password for the notification email\n",
    "email_address = 'isaac.rubey@gmail.com'\n",
    "email_password = '**********'\n",
    "\n",
    "# Set the email recipient's address\n",
    "recipient_address = 'isaac.rubey@gmail.com'\n",
    "\n",
    "# Make a request to the flight prices URL\n",
    "response = requests.get(url)\n",
    "\n",
    "# Parse the HTML response using BeautifulSoup\n",
    "soup = BeautifulSoup(response.text, 'html.parser')\n",
    "\n",
    "# Find the element that contains the flight price\n",
    "price_element = soup.find('div', {'class': 'gws-flights-results__price'})\n",
    "\n",
    "# Extract the numerical price value from the element's text\n",
    "price_text = price_element.text.strip()\n",
    "price = float(price_text[1:].replace(',', ''))\n",
    "\n",
    "# Check if the price is below the threshold\n",
    "if price < threshold_price:\n",
    "    # Compose the email message\n",
    "    message = MIMEText(f\"Round-trip tickets from Denver to Montreal are now available for ${price:.2f}!\")\n",
    "    message['Subject'] = 'Montreal Flight Price Alert'\n",
    "    message['From'] = email_address\n",
    "    message['To'] = recipient_address\n",
    "\n",
    "    # Send the email using SMTP\n",
    "    with smtplib.SMTP('smtp.gmail.com', 587) as smtp:\n",
    "        smtp.starttls()\n",
    "        smtp.login(email_address, email_password)\n",
    "        smtp.send_message(message)\n"
   ]
  }
 ],
 "metadata": {
  "language_info": {
   "name": "python"
  },
  "orig_nbformat": 4
 },
 "nbformat": 4,
 "nbformat_minor": 2
}
